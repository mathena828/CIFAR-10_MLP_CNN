{
  "nbformat": 4,
  "nbformat_minor": 0,
  "metadata": {
    "colab": {
      "name": "CIFAR-10_MLP_CNN.ipynb",
      "provenance": [],
      "collapsed_sections": [],
      "authorship_tag": "ABX9TyN+DsExjT8DC1Iqf6bi7LJ+",
      "include_colab_link": true
    },
    "kernelspec": {
      "name": "python3",
      "display_name": "Python 3"
    }
  },
  "cells": [
    {
      "cell_type": "markdown",
      "metadata": {
        "id": "view-in-github",
        "colab_type": "text"
      },
      "source": [
        "<a href=\"https://colab.research.google.com/github/mathena828/CIFAR-10_MLP_CNN/blob/cnn-version-2/CIFAR_10_MLP_CNN.ipynb\" target=\"_parent\"><img src=\"https://colab.research.google.com/assets/colab-badge.svg\" alt=\"Open In Colab\"/></a>"
      ]
    },
    {
      "cell_type": "code",
      "metadata": {
        "id": "TYDs3fVFK2Sp"
      },
      "source": [
        "import numpy as np \n",
        "import matplotlib.pyplot as plt\n",
        "\n",
        "from keras.utils.np_utils import to_categorical \n",
        "from keras.models import Sequential, Model\n",
        "from keras.layers import Dense, Input, Flatten, Dropout\n",
        "from keras.layers.convolutional import Conv2D\n",
        "from keras.layers.pooling import MaxPooling2D\n",
        "from keras.callbacks import ModelCheckpoint\n",
        "\n",
        "# Import CIFAR-10 dataset\n",
        "from keras.datasets import cifar10"
      ],
      "execution_count": 1,
      "outputs": []
    },
    {
      "cell_type": "markdown",
      "metadata": {
        "id": "OOSDD9dciYVu"
      },
      "source": [
        "<h1>Multilayer Perceptron (MLP)</h1>"
      ]
    },
    {
      "cell_type": "code",
      "metadata": {
        "id": "xpsiEDpJK-3b",
        "outputId": "0b887396-b44b-4619-a21a-219bb54a64cc",
        "colab": {
          "base_uri": "https://localhost:8080/",
          "height": 51
        }
      },
      "source": [
        "# Load CIFAR-10 dataset\n",
        "(x_train, y_train), (x_test, y_test) = cifar10.load_data()"
      ],
      "execution_count": null,
      "outputs": [
        {
          "output_type": "stream",
          "text": [
            "Downloading data from https://www.cs.toronto.edu/~kriz/cifar-10-python.tar.gz\n",
            "170500096/170498071 [==============================] - 3s 0us/step\n"
          ],
          "name": "stdout"
        }
      ]
    },
    {
      "cell_type": "code",
      "metadata": {
        "id": "n69QTnCLLBJg"
      },
      "source": [
        "# Convert label indices to one-hot encoded vectors\n",
        "y_train = to_categorical(y_train, num_classes=10)\n",
        "y_test = to_categorical(y_test, num_classes=10)\n",
        "\n",
        "# Transform images to 3072-dimensional vectors and normalize the pixel values\n",
        "x_train = np.reshape(x_train, (-1, 3072))\n",
        "x_train = x_train.astype('float32') / 255\n",
        "x_test = np.reshape(x_test,(-1, 3072))\n",
        "x_test = x_test.astype('float32') / 255"
      ],
      "execution_count": null,
      "outputs": []
    },
    {
      "cell_type": "code",
      "metadata": {
        "id": "95A0JVhyhY1o",
        "outputId": "3eff0312-3e61-46df-b7f2-902d89012d20",
        "colab": {
          "base_uri": "https://localhost:8080/",
          "height": 323
        }
      },
      "source": [
        "visible = Input(shape=(3072,))\n",
        "hidden_1 = Dense(1024, activation='relu')(visible)\n",
        "hidden_2 = Dense(512, activation='relu')(hidden_1)\n",
        "hidden_3 = Dense(128, activation='relu')(hidden_2)\n",
        "output = Dense(10, activation='softmax')(hidden_3)\n",
        "model = Model(inputs=visible, outputs=output)\n",
        "model.summary()"
      ],
      "execution_count": null,
      "outputs": [
        {
          "output_type": "stream",
          "text": [
            "Model: \"functional_15\"\n",
            "_________________________________________________________________\n",
            "Layer (type)                 Output Shape              Param #   \n",
            "=================================================================\n",
            "input_8 (InputLayer)         [(None, 3072)]            0         \n",
            "_________________________________________________________________\n",
            "dense_29 (Dense)             (None, 1024)              3146752   \n",
            "_________________________________________________________________\n",
            "dense_30 (Dense)             (None, 512)               524800    \n",
            "_________________________________________________________________\n",
            "dense_31 (Dense)             (None, 128)               65664     \n",
            "_________________________________________________________________\n",
            "dense_32 (Dense)             (None, 10)                1290      \n",
            "=================================================================\n",
            "Total params: 3,738,506\n",
            "Trainable params: 3,738,506\n",
            "Non-trainable params: 0\n",
            "_________________________________________________________________\n"
          ],
          "name": "stdout"
        }
      ]
    },
    {
      "cell_type": "code",
      "metadata": {
        "id": "PKbE7teBLGFY"
      },
      "source": [
        "# model = Sequential(name='MLP')\n",
        "# model.add(Dense(2048, input_dim=3072, activation='relu'))\n",
        "# model.add(Dense(1024, activation='relu'))\n",
        "# model.add(Dense(502, activation='relu'))\n",
        "# model.add(Dense(10, activation='softmax'))\n",
        "# model.summary()"
      ],
      "execution_count": null,
      "outputs": []
    },
    {
      "cell_type": "code",
      "metadata": {
        "id": "hiyG0cj4LN-7",
        "outputId": "862cd173-1d92-444c-f63e-6498c593da01",
        "colab": {
          "base_uri": "https://localhost:8080/",
          "height": 989
        }
      },
      "source": [
        "# Compile the model\n",
        "model.compile(loss='categorical_crossentropy',\n",
        "              optimizer='sgd',\n",
        "              metrics=['accuracy'])\n",
        "checkpoint = ModelCheckpoint(filepath=\"checkpoints/mlp\", verbose=False, save_best_only = True)\n",
        "# Train the model\n",
        "history = model.fit(x_train, y_train, validation_data=(x_test, y_test), epochs=25, batch_size=128, callbacks=[checkpoint])\n",
        "# Evaluate the model\n",
        "loss, accuracy = model.evaluate(x_test,\n",
        "                           y_test, \n",
        "                           batch_size=128,\n",
        "                           verbose=False)\n",
        "print(\"\\nTest Accuracy: %.1f%%\" % (100.0 * accuracy))"
      ],
      "execution_count": null,
      "outputs": [
        {
          "output_type": "stream",
          "text": [
            "Epoch 1/25\n",
            "390/391 [============================>.] - ETA: 0s - loss: 1.2149 - accuracy: 0.5731INFO:tensorflow:Assets written to: checkpoints/mlp/assets\n",
            "391/391 [==============================] - 22s 55ms/step - loss: 1.2147 - accuracy: 0.5732 - val_loss: 1.4020 - val_accuracy: 0.4974\n",
            "Epoch 2/25\n",
            "391/391 [==============================] - 21s 54ms/step - loss: 1.1965 - accuracy: 0.5804 - val_loss: 1.6182 - val_accuracy: 0.4346\n",
            "Epoch 3/25\n",
            "391/391 [==============================] - ETA: 0s - loss: 1.1839 - accuracy: 0.5887INFO:tensorflow:Assets written to: checkpoints/mlp/assets\n",
            "391/391 [==============================] - 21s 55ms/step - loss: 1.1839 - accuracy: 0.5887 - val_loss: 1.3467 - val_accuracy: 0.5243\n",
            "Epoch 4/25\n",
            "391/391 [==============================] - 21s 53ms/step - loss: 1.1691 - accuracy: 0.5922 - val_loss: 1.4187 - val_accuracy: 0.4960\n",
            "Epoch 5/25\n",
            "390/391 [============================>.] - ETA: 0s - loss: 1.1580 - accuracy: 0.5932INFO:tensorflow:Assets written to: checkpoints/mlp/assets\n",
            "391/391 [==============================] - 21s 54ms/step - loss: 1.1579 - accuracy: 0.5933 - val_loss: 1.3284 - val_accuracy: 0.5282\n",
            "Epoch 6/25\n",
            "391/391 [==============================] - 21s 54ms/step - loss: 1.1499 - accuracy: 0.5990 - val_loss: 1.4120 - val_accuracy: 0.5032\n",
            "Epoch 7/25\n",
            "391/391 [==============================] - 21s 53ms/step - loss: 1.1296 - accuracy: 0.6048 - val_loss: 1.3766 - val_accuracy: 0.5115\n",
            "Epoch 8/25\n",
            "391/391 [==============================] - 21s 53ms/step - loss: 1.1214 - accuracy: 0.6085 - val_loss: 1.3976 - val_accuracy: 0.5047\n",
            "Epoch 9/25\n",
            "391/391 [==============================] - 21s 53ms/step - loss: 1.1058 - accuracy: 0.6142 - val_loss: 1.3383 - val_accuracy: 0.5185\n",
            "Epoch 10/25\n",
            "391/391 [==============================] - 21s 53ms/step - loss: 1.0943 - accuracy: 0.6181 - val_loss: 1.3793 - val_accuracy: 0.5136\n",
            "Epoch 11/25\n",
            "391/391 [==============================] - 20s 52ms/step - loss: 1.0825 - accuracy: 0.6237 - val_loss: 1.4035 - val_accuracy: 0.5068\n",
            "Epoch 12/25\n",
            "391/391 [==============================] - 21s 53ms/step - loss: 1.0717 - accuracy: 0.6265 - val_loss: 1.3585 - val_accuracy: 0.5223\n",
            "Epoch 13/25\n",
            "391/391 [==============================] - 20s 52ms/step - loss: 1.0638 - accuracy: 0.6292 - val_loss: 1.3741 - val_accuracy: 0.5120\n",
            "Epoch 14/25\n",
            "391/391 [==============================] - 21s 54ms/step - loss: 1.0460 - accuracy: 0.6351 - val_loss: 1.3672 - val_accuracy: 0.5163\n",
            "Epoch 15/25\n",
            "391/391 [==============================] - 20s 52ms/step - loss: 1.0365 - accuracy: 0.6396 - val_loss: 1.4444 - val_accuracy: 0.4990\n",
            "Epoch 16/25\n",
            "391/391 [==============================] - 21s 52ms/step - loss: 1.0249 - accuracy: 0.6439 - val_loss: 1.3923 - val_accuracy: 0.5128\n",
            "Epoch 17/25\n",
            "391/391 [==============================] - 21s 52ms/step - loss: 1.0148 - accuracy: 0.6478 - val_loss: 1.4492 - val_accuracy: 0.5065\n",
            "Epoch 18/25\n",
            "390/391 [============================>.] - ETA: 0s - loss: 0.9966 - accuracy: 0.6543INFO:tensorflow:Assets written to: checkpoints/mlp/assets\n",
            "391/391 [==============================] - 21s 54ms/step - loss: 0.9966 - accuracy: 0.6544 - val_loss: 1.2909 - val_accuracy: 0.5464\n",
            "Epoch 19/25\n",
            "391/391 [==============================] - 20s 52ms/step - loss: 0.9885 - accuracy: 0.6571 - val_loss: 1.3233 - val_accuracy: 0.5395\n",
            "Epoch 20/25\n",
            "391/391 [==============================] - 20s 52ms/step - loss: 0.9795 - accuracy: 0.6594 - val_loss: 1.3169 - val_accuracy: 0.5411\n",
            "Epoch 21/25\n",
            "391/391 [==============================] - 25s 63ms/step - loss: 0.9616 - accuracy: 0.6689 - val_loss: 1.3655 - val_accuracy: 0.5232\n",
            "Epoch 22/25\n",
            "391/391 [==============================] - 20s 52ms/step - loss: 0.9515 - accuracy: 0.6728 - val_loss: 1.3952 - val_accuracy: 0.5277\n",
            "Epoch 23/25\n",
            "391/391 [==============================] - 20s 52ms/step - loss: 0.9397 - accuracy: 0.6725 - val_loss: 1.3430 - val_accuracy: 0.5292\n",
            "Epoch 24/25\n",
            "391/391 [==============================] - 21s 53ms/step - loss: 0.9261 - accuracy: 0.6790 - val_loss: 1.3071 - val_accuracy: 0.5420\n",
            "Epoch 25/25\n",
            "391/391 [==============================] - 21s 53ms/step - loss: 0.9171 - accuracy: 0.6854 - val_loss: 1.3171 - val_accuracy: 0.5474\n",
            "\n",
            "Test Accuracy: 54.7%\n"
          ],
          "name": "stdout"
        }
      ]
    },
    {
      "cell_type": "code",
      "metadata": {
        "id": "ZDZiiDQYLQWS",
        "outputId": "094f963a-de4a-43a5-d86e-fd480da7878d",
        "colab": {
          "base_uri": "https://localhost:8080/",
          "height": 295
        }
      },
      "source": [
        "plt.plot(history.history['loss'], label='Train Loss')\n",
        "plt.plot(history.history['val_loss'], label='Test Loss')\n",
        "#plt.plot(history.history['val_acc'], label='Test accuracy')\n",
        "plt.title('Train and Test Loss')\n",
        "plt.ylabel('Cross-Entropy')\n",
        "plt.xlabel('Epochs')\n",
        "plt.legend(loc=\"upper right\")\n",
        "plt.show()"
      ],
      "execution_count": null,
      "outputs": [
        {
          "output_type": "display_data",
          "data": {
            "image/png": "[encoded data removed]",
            "text/plain": [
              "<Figure size 432x288 with 1 Axes>"
            ]
          },
          "metadata": {
            "tags": [],
            "needs_background": "light"
          }
        }
      ]
    },
    {
      "cell_type": "code",
      "metadata": {
        "id": "0ABCxqquLUNa",
        "outputId": "43cc15ed-96af-423e-9fce-3e512a16bfc1",
        "colab": {
          "base_uri": "https://localhost:8080/",
          "height": 295
        }
      },
      "source": [
        "plt.plot(history.history['accuracy'], label='Train Accuracy')\n",
        "plt.plot(history.history['val_accuracy'], label='Test Accuracy')\n",
        "#plt.plot(history.history['val_acc'], label='Test accuracy')\n",
        "plt.title('Train and Test Accuracy')\n",
        "plt.ylabel('Accuracy')\n",
        "plt.xlabel('Epochs')\n",
        "plt.legend(loc=\"lower right\")\n",
        "plt.show()"
      ],
      "execution_count": null,
      "outputs": [
        {
          "output_type": "display_data",
          "data": {
            "image/png": "[encoded data removed]",
            "text/plain": [
              "<Figure size 432x288 with 1 Axes>"
            ]
          },
          "metadata": {
            "tags": [],
            "needs_background": "light"
          }
        }
      ]
    },
    {
      "cell_type": "markdown",
      "metadata": {
        "id": "tQwZ3l9ii5SN"
      },
      "source": [
        "<h1>Convolutional Neural Network (CNN)</h1>"
      ]
    },
    {
      "cell_type": "code",
      "metadata": {
        "id": "mLtUBSU67mH8",
        "outputId": "937669cc-b618-4762-a9d1-ae00f16a86d1",
        "colab": {
          "base_uri": "https://localhost:8080/",
          "height": 51
        }
      },
      "source": [
        "# Load CIFAR-10 dataset\n",
        "(x_train, y_train), (x_test, y_test) = cifar10.load_data()"
      ],
      "execution_count": 2,
      "outputs": [
        {
          "output_type": "stream",
          "text": [
            "Downloading data from https://www.cs.toronto.edu/~kriz/cifar-10-python.tar.gz\n",
            "170500096/170498071 [==============================] - 2s 0us/step\n"
          ],
          "name": "stdout"
        }
      ]
    },
    {
      "cell_type": "code",
      "metadata": {
        "id": "nWro_5Ez7Jxd"
      },
      "source": [
        "# Convert label indices to one-hot encoded vectors\n",
        "y_train = to_categorical(y_train, num_classes=10)\n",
        "y_test = to_categorical(y_test, num_classes=10)\n",
        "\n",
        "# Normalize the pixel values\n",
        "x_train = x_train.astype('float32') / 255\n",
        "x_test = x_test.astype('float32') / 255"
      ],
      "execution_count": 3,
      "outputs": []
    },
    {
      "cell_type": "code",
      "metadata": {
        "id": "mEofKkMiiXmq",
        "outputId": "65d23ded-6275-4841-8a09-1837630f31ef",
        "colab": {
          "base_uri": "https://localhost:8080/",
          "height": 595
        }
      },
      "source": [
        "visible = Input(shape=(32,32,3))\n",
        "conv_1 = Conv2D(32, kernel_size=3, strides=1, padding='same', activation='relu')(visible)\n",
        "pool_1 = MaxPooling2D(pool_size=(2))(conv_1)\n",
        "conv_2 = Conv2D(64, kernel_size=4, strides=1, padding='same', activation='relu')(pool_1)\n",
        "pool_2 = MaxPooling2D(pool_size=(2))(conv_2)\n",
        "conv_3 = Conv2D(128, kernel_size=4, strides=1, padding='same', activation='relu')(pool_2)\n",
        "pool_3 = MaxPooling2D(pool_size=(2))(conv_3)\n",
        "pool_3 = Dropout(0.2)(pool_3)\n",
        "flat = Flatten()(pool_3)\n",
        "flat = Dropout(0.2)(flat)\n",
        "hidden_1 = Dense(512, activation='relu')(flat)\n",
        "hidden_1 = Dropout(0.2)(hidden_1)\n",
        "output = Dense(10, activation='softmax')(hidden_1)\n",
        "model = Model(inputs=visible, outputs=output)\n",
        "model.summary()"
      ],
      "execution_count": 4,
      "outputs": [
        {
          "output_type": "stream",
          "text": [
            "Model: \"functional_1\"\n",
            "_________________________________________________________________\n",
            "Layer (type)                 Output Shape              Param #   \n",
            "=================================================================\n",
            "input_1 (InputLayer)         [(None, 32, 32, 3)]       0         \n",
            "_________________________________________________________________\n",
            "conv2d (Conv2D)              (None, 32, 32, 32)        896       \n",
            "_________________________________________________________________\n",
            "max_pooling2d (MaxPooling2D) (None, 16, 16, 32)        0         \n",
            "_________________________________________________________________\n",
            "conv2d_1 (Conv2D)            (None, 16, 16, 64)        32832     \n",
            "_________________________________________________________________\n",
            "max_pooling2d_1 (MaxPooling2 (None, 8, 8, 64)          0         \n",
            "_________________________________________________________________\n",
            "conv2d_2 (Conv2D)            (None, 8, 8, 128)         131200    \n",
            "_________________________________________________________________\n",
            "max_pooling2d_2 (MaxPooling2 (None, 4, 4, 128)         0         \n",
            "_________________________________________________________________\n",
            "dropout (Dropout)            (None, 4, 4, 128)         0         \n",
            "_________________________________________________________________\n",
            "flatten (Flatten)            (None, 2048)              0         \n",
            "_________________________________________________________________\n",
            "dropout_1 (Dropout)          (None, 2048)              0         \n",
            "_________________________________________________________________\n",
            "dense (Dense)                (None, 512)               1049088   \n",
            "_________________________________________________________________\n",
            "dropout_2 (Dropout)          (None, 512)               0         \n",
            "_________________________________________________________________\n",
            "dense_1 (Dense)              (None, 10)                5130      \n",
            "=================================================================\n",
            "Total params: 1,219,146\n",
            "Trainable params: 1,219,146\n",
            "Non-trainable params: 0\n",
            "_________________________________________________________________\n"
          ],
          "name": "stdout"
        }
      ]
    },
    {
      "cell_type": "code",
      "metadata": {
        "id": "0fpzAgDNpxFY",
        "outputId": "f7d105cc-50ca-49e9-c506-576e58df3c2c",
        "colab": {
          "base_uri": "https://localhost:8080/",
          "height": 1000
        }
      },
      "source": [
        "# Compile the model\n",
        "model.compile(loss='categorical_crossentropy',\n",
        "              optimizer='sgd',\n",
        "              metrics=['accuracy'])\n",
        "checkpoint = ModelCheckpoint(filepath=\"checkpoints/cnn\", verbose = False, save_best_only = True)\n",
        "history = model.fit(x_train, y_train, validation_data=(x_test, y_test), epochs=25, batch_size=128, callbacks=[checkpoint])\n",
        "# Evaluate the model\n",
        "loss, accuracy = model.evaluate(x_test,\n",
        "                           y_test, \n",
        "                           batch_size=128,\n",
        "                           verbose=False)\n",
        "print(\"\\nTest Accuracy: %.1f%%\" % (100.0 * accuracy))"
      ],
      "execution_count": 6,
      "outputs": [
        {
          "output_type": "stream",
          "text": [
            "Epoch 1/25\n",
            "391/391 [==============================] - ETA: 0s - loss: 1.0790 - accuracy: 0.6169INFO:tensorflow:Assets written to: checkpoints/cnn/assets\n",
            "391/391 [==============================] - 183s 469ms/step - loss: 1.0790 - accuracy: 0.6169 - val_loss: 1.0311 - val_accuracy: 0.6345\n",
            "Epoch 2/25\n",
            "391/391 [==============================] - ETA: 0s - loss: 1.0632 - accuracy: 0.6239INFO:tensorflow:Assets written to: checkpoints/cnn/assets\n",
            "391/391 [==============================] - 187s 478ms/step - loss: 1.0632 - accuracy: 0.6239 - val_loss: 1.0147 - val_accuracy: 0.6399\n",
            "Epoch 3/25\n",
            "391/391 [==============================] - ETA: 0s - loss: 1.0490 - accuracy: 0.6299INFO:tensorflow:Assets written to: checkpoints/cnn/assets\n",
            "391/391 [==============================] - 183s 469ms/step - loss: 1.0490 - accuracy: 0.6299 - val_loss: 0.9890 - val_accuracy: 0.6499\n",
            "Epoch 4/25\n",
            "391/391 [==============================] - 182s 467ms/step - loss: 1.0306 - accuracy: 0.6370 - val_loss: 0.9920 - val_accuracy: 0.6533\n",
            "Epoch 5/25\n",
            "391/391 [==============================] - ETA: 0s - loss: 1.0167 - accuracy: 0.6401INFO:tensorflow:Assets written to: checkpoints/cnn/assets\n",
            "391/391 [==============================] - 187s 478ms/step - loss: 1.0167 - accuracy: 0.6401 - val_loss: 0.9887 - val_accuracy: 0.6534\n",
            "Epoch 6/25\n",
            "391/391 [==============================] - ETA: 0s - loss: 1.0016 - accuracy: 0.6461INFO:tensorflow:Assets written to: checkpoints/cnn/assets\n",
            "391/391 [==============================] - 184s 471ms/step - loss: 1.0016 - accuracy: 0.6461 - val_loss: 0.9637 - val_accuracy: 0.6615\n",
            "Epoch 7/25\n",
            "391/391 [==============================] - ETA: 0s - loss: 0.9873 - accuracy: 0.6524INFO:tensorflow:Assets written to: checkpoints/cnn/assets\n",
            "391/391 [==============================] - 184s 470ms/step - loss: 0.9873 - accuracy: 0.6524 - val_loss: 0.9542 - val_accuracy: 0.6656\n",
            "Epoch 8/25\n",
            "391/391 [==============================] - 183s 467ms/step - loss: 0.9747 - accuracy: 0.6573 - val_loss: 0.9617 - val_accuracy: 0.6609\n",
            "Epoch 9/25\n",
            "391/391 [==============================] - ETA: 0s - loss: 0.9628 - accuracy: 0.6601INFO:tensorflow:Assets written to: checkpoints/cnn/assets\n",
            "391/391 [==============================] - 187s 479ms/step - loss: 0.9628 - accuracy: 0.6601 - val_loss: 0.9378 - val_accuracy: 0.6707\n",
            "Epoch 10/25\n",
            "391/391 [==============================] - 183s 468ms/step - loss: 0.9504 - accuracy: 0.6655 - val_loss: 0.9542 - val_accuracy: 0.6615\n",
            "Epoch 11/25\n",
            "391/391 [==============================] - ETA: 0s - loss: 0.9396 - accuracy: 0.6708INFO:tensorflow:Assets written to: checkpoints/cnn/assets\n",
            "391/391 [==============================] - 184s 470ms/step - loss: 0.9396 - accuracy: 0.6708 - val_loss: 0.9027 - val_accuracy: 0.6828\n",
            "Epoch 12/25\n",
            "391/391 [==============================] - 187s 478ms/step - loss: 0.9248 - accuracy: 0.6756 - val_loss: 0.9358 - val_accuracy: 0.6686\n",
            "Epoch 13/25\n",
            "391/391 [==============================] - 183s 468ms/step - loss: 0.9136 - accuracy: 0.6775 - val_loss: 0.9116 - val_accuracy: 0.6850\n",
            "Epoch 14/25\n",
            "391/391 [==============================] - 183s 468ms/step - loss: 0.9049 - accuracy: 0.6812 - val_loss: 0.9403 - val_accuracy: 0.6710\n",
            "Epoch 15/25\n",
            "391/391 [==============================] - ETA: 0s - loss: 0.8909 - accuracy: 0.6853INFO:tensorflow:Assets written to: checkpoints/cnn/assets\n",
            "391/391 [==============================] - 187s 478ms/step - loss: 0.8909 - accuracy: 0.6853 - val_loss: 0.8956 - val_accuracy: 0.6871\n",
            "Epoch 16/25\n",
            "391/391 [==============================] - ETA: 0s - loss: 0.8798 - accuracy: 0.6924INFO:tensorflow:Assets written to: checkpoints/cnn/assets\n",
            "391/391 [==============================] - 184s 469ms/step - loss: 0.8798 - accuracy: 0.6924 - val_loss: 0.8672 - val_accuracy: 0.7003\n",
            "Epoch 17/25\n",
            "391/391 [==============================] - 182s 466ms/step - loss: 0.8680 - accuracy: 0.6934 - val_loss: 0.9001 - val_accuracy: 0.6855\n",
            "Epoch 18/25\n",
            "391/391 [==============================] - 183s 467ms/step - loss: 0.8596 - accuracy: 0.6972 - val_loss: 0.8811 - val_accuracy: 0.6971\n",
            "Epoch 19/25\n",
            "391/391 [==============================] - ETA: 0s - loss: 0.8468 - accuracy: 0.7025INFO:tensorflow:Assets written to: checkpoints/cnn/assets\n",
            "391/391 [==============================] - 188s 480ms/step - loss: 0.8468 - accuracy: 0.7025 - val_loss: 0.8614 - val_accuracy: 0.7015\n",
            "Epoch 20/25\n",
            "391/391 [==============================] - ETA: 0s - loss: 0.8363 - accuracy: 0.7073INFO:tensorflow:Assets written to: checkpoints/cnn/assets\n",
            "391/391 [==============================] - 184s 470ms/step - loss: 0.8363 - accuracy: 0.7073 - val_loss: 0.8536 - val_accuracy: 0.7057\n",
            "Epoch 21/25\n",
            "391/391 [==============================] - ETA: 0s - loss: 0.8329 - accuracy: 0.7076INFO:tensorflow:Assets written to: checkpoints/cnn/assets\n",
            "391/391 [==============================] - 184s 471ms/step - loss: 0.8329 - accuracy: 0.7076 - val_loss: 0.8316 - val_accuracy: 0.7118\n",
            "Epoch 22/25\n",
            "391/391 [==============================] - ETA: 0s - loss: 0.8156 - accuracy: 0.7163INFO:tensorflow:Assets written to: checkpoints/cnn/assets\n",
            "391/391 [==============================] - 187s 479ms/step - loss: 0.8156 - accuracy: 0.7163 - val_loss: 0.8302 - val_accuracy: 0.7123\n",
            "Epoch 23/25\n",
            "391/391 [==============================] - 183s 467ms/step - loss: 0.8064 - accuracy: 0.7212 - val_loss: 0.8360 - val_accuracy: 0.7106\n",
            "Epoch 24/25\n",
            "391/391 [==============================] - ETA: 0s - loss: 0.7967 - accuracy: 0.7213INFO:tensorflow:Assets written to: checkpoints/cnn/assets\n",
            "391/391 [==============================] - 184s 471ms/step - loss: 0.7967 - accuracy: 0.7213 - val_loss: 0.8275 - val_accuracy: 0.7138\n",
            "Epoch 25/25\n",
            "391/391 [==============================] - ETA: 0s - loss: 0.7902 - accuracy: 0.7234INFO:tensorflow:Assets written to: checkpoints/cnn/assets\n",
            "391/391 [==============================] - 187s 479ms/step - loss: 0.7902 - accuracy: 0.7234 - val_loss: 0.8114 - val_accuracy: 0.7187\n",
            "\n",
            "Test Accuracy: 71.9%\n"
          ],
          "name": "stdout"
        }
      ]
    },
    {
      "cell_type": "code",
      "metadata": {
        "id": "Xq85kRE-MJue",
        "outputId": "37bca8d0-923a-4420-ae7e-d31728cc96b7",
        "colab": {
          "base_uri": "https://localhost:8080/",
          "height": 295
        }
      },
      "source": [
        "plt.plot(history.history['loss'], label='Train Loss')\n",
        "plt.plot(history.history['val_loss'], label='Test Loss')\n",
        "#plt.plot(history.history['val_acc'], label='Test accuracy')\n",
        "plt.title('Train and Test Loss')\n",
        "plt.ylabel('Cross-Entropy')\n",
        "plt.xlabel('Epochs')\n",
        "plt.legend(loc=\"upper right\")\n",
        "plt.show()"
      ],
      "execution_count": null,
      "outputs": [
        {
          "output_type": "display_data",
          "data": {
            "image/png": "[encoded data removed]",
            "text/plain": [
              "<Figure size 432x288 with 1 Axes>"
            ]
          },
          "metadata": {
            "tags": [],
            "needs_background": "light"
          }
        }
      ]
    },
    {
      "cell_type": "code",
      "metadata": {
        "id": "mx6WuFjCMOpX",
        "outputId": "f3948a76-52bc-4449-f6da-82a3aeb237a8",
        "colab": {
          "base_uri": "https://localhost:8080/",
          "height": 295
        }
      },
      "source": [
        "plt.plot(history.history['accuracy'], label='Train Accuracy')\n",
        "plt.plot(history.history['val_accuracy'], label='Test Accuracy')\n",
        "#plt.plot(history.history['val_acc'], label='Test accuracy')\n",
        "plt.title('Train and Test Accuracy')\n",
        "plt.ylabel('Accuracy')\n",
        "plt.xlabel('Epochs')\n",
        "plt.legend(loc=\"lower right\")\n",
        "plt.show()"
      ],
      "execution_count": null,
      "outputs": [
        {
          "output_type": "display_data",
          "data": {
            "image/png": "[encoded data removed]",
            "text/plain": [
              "<Figure size 432x288 with 1 Axes>"
            ]
          },
          "metadata": {
            "tags": [],
            "needs_background": "light"
          }
        }
      ]
    }
  ]
}